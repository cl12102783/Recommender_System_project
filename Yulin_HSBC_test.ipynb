{
 "cells": [
  {
   "cell_type": "markdown",
   "metadata": {},
   "source": [
    "## HSBC Data Science project - Recommender System\n",
    "\n",
    "### Yulin Chen\n",
    "\n",
    "## Summary\n",
    "\n",
    "In this project, three recommender systems: 1) [Baseline model](#section_bm); 2) [User-User Collaborative Filtering model](#section_cf); 3) [Truncated SVD model](#section_tsvd) are constructed and compared using the one month User-Item data from 11/18/2014 to 12/18/2014.\n",
    "\n",
    "First, by [Exploratory Data Analysis (EDA) and processing](#section_eda), data are splitted into training and validation sets by the ratio of 7/3 under time sequence. In the data processing, **two assumptions are made:** 1) score of {1: clicking} doesn't mean the users are interested in the items at all, which means only closer interactions with score > 1 are considered; 2) items appear only in training set and disappear in the validation set means the items have been taken down by the merchants and it won't appear any more in the future. Under these consumptions, the size of training data is largely reduced, making the model training process executable locally and efficiently. Meanwhile, cold start items that are only in the validation instead of training set are not considered.\n",
    "\n",
    "Apart from this, several technical processing are conducted. Because both the [User-User Collaborative Filtering model](#section_cf) and [Truncated SVD](#section_tsvd) need a _utility matrix_, which is a very sparse matrix with user_id as rows, item_id as columns, and score as the values. Hence, [row based Linked List (lil) sparse matrix](#section_lil) is employed to better construct and store the sparse data. Meanwhile, in order to realize efficient indexing, the original user_id and item_id are [hashed](#section_hash) using data structure of _dictionary_ in Python.\n",
    "\n",
    "In terms of the [metrics](#section_metrics) for evaluation, there are mainly two parts. One is the error evaludation for score/rating using MAE and RMSE. The other is the evaludation of list of recommendations using precision, recall and F1-score.\n",
    "\n",
    "To implement the recommendation system contruction, [User-User based Collaborative Filtering model](#section_cf) is first constructed. Because the number of the unique user_id is much less than the item_id, User based similarity matrix is calculated instead of using the Item-based matrix. Meanwhile, the cosine similarity is applied as the similarity definition. The similarity weighted score for the missing rating of a user is estimated by using the similarity between the user and his/her nearest neighbors, and the neighbor's rated scores.  Then, a [Truncated SVD model](#section_tsvd), which is one of the low rank matrix approximation type methods, is used to predict all the missing value by converting the sparse utility matrix to a dense matrix. Herein, 1000 principle components are used to count around 50% cumulative explained variance due to the consideration of memory and time resources for the processing. As a bonus in this project, a baseline model is built. Actually, there are two versions. [One](#section_bm) is to recommend 5 most popular unrated items in the category that the user mostly interacted with. [The other](#section_bmave) is to estimate rating using the average scores of the user in the training data. The latter is mainly used in the validation section to compare with the other two models.\n",
    "\n",
    "[Evaluation](#section_eva) is implemented using the validation data.  In total, there are around 60000 rated pairs of (user_id, item_id) in the validation set and not ever in the training set. 10000 pairs are randomly selected from them to evaluate MAE, RMSE and average F1 score. In the results, it shows that the User collaborating filtering model has way better performance than the Truncated SVD model that only counts 50% cumulated variance in this project. However, the current version of User-based model behaves a bit worse than the [baseline model](#section_bmave) due to the very sparse data.\n",
    "\n",
    "## Contents\n",
    "\n",
    "### **1. [Exploratory Data Analysis (EDA) and Processing](#section_eda)**\n",
    "### **2. [Evaluation Criteria](#section_crit)**\n",
    "### **3. [Recommendation System](#section_lil)**\n",
    ">  **3.1 [User-User Collaborative Filtering model](#section_cf)**<br>\n",
    ">  **3.2 [Truncated SVD Model](#section_tsvd)**<br>\n",
    ">  **3.3 [Baseline Model](#section_bm)**\n",
    "### **4. [Evaluation](#section_eva)**\n",
    "\n",
    " \n",
    " <a href='#section_crit'></a>\n",
    " <a href='#section_cf'></a>\n",
    " <a href='#section_bm'></a>\n",
    " <a href='#section_tsvd'></a>\n",
    " <a href='#section_lil'></a>\n",
    " <a href='#section_hash'></a>\n",
    " <a href='#section_metrics'></a>\n",
    " <a href='#section_bmave'></a>\n",
    " <a href='#section_eva'></a>"
   ]
  },
  {
   "cell_type": "code",
   "execution_count": 260,
   "metadata": {},
   "outputs": [],
   "source": [
    "import numpy as np\n",
    "import pandas as pd\n",
    "import json\n",
    "\n",
    "import random\n",
    "from collections import defaultdict\n",
    "from scipy import sparse\n",
    "import scipy.sparse\n",
    "from sklearn.metrics.pairwise import cosine_similarity\n",
    "from sklearn.decomposition import NMF\n",
    "from sklearn.decomposition import TruncatedSVD\n",
    "from sklearn.metrics import precision_recall_curve\n",
    "\n",
    "from time import time\n",
    "import gc\n",
    "import warnings\n",
    "warnings.filterwarnings(\"ignore\")\n",
    "\n",
    "import matplotlib.pyplot as plt\n",
    "from matplotlib.dates import DateFormatter\n",
    "import matplotlib.dates as mdates\n",
    "import matplotlib as mpl\n",
    "mpl.rcParams['axes.labelsize'] = 20\n",
    "mpl.rcParams['axes.titlesize'] = 18\n",
    "mpl.rcParams['xtick.labelsize'] = 16\n",
    "mpl.rcParams['ytick.labelsize'] = 16\n",
    "mpl.rcParams['lines.linewidth'] = 2\n",
    "%matplotlib inline "
   ]
  },
  {
   "cell_type": "markdown",
   "metadata": {},
   "source": [
    " <a id='section_eda'></a>\n",
    "## 1. Exploratory data analysis (EDA) and processing"
   ]
  },
  {
   "cell_type": "code",
   "execution_count": 2,
   "metadata": {},
   "outputs": [],
   "source": [
    "# Read data\n",
    "df_user = pd.read_csv('user_behaviour_complete.csv')\n",
    "df_item = pd.read_csv('item_metadata.csv')"
   ]
  },
  {
   "cell_type": "markdown",
   "metadata": {},
   "source": [
    "__Now, we need to merge the 'item_location_hash' from item table to the user table. Herein, the left join is used based on the columns of 'item_id' in user table.__"
   ]
  },
  {
   "cell_type": "code",
   "execution_count": 3,
   "metadata": {
    "scrolled": false
   },
   "outputs": [
    {
     "data": {
      "text/plain": [
       "39"
      ]
     },
     "execution_count": 3,
     "metadata": {},
     "output_type": "execute_result"
    }
   ],
   "source": [
    "df = df_user.merge(df_item.drop(columns='item_cat'), how = 'left', on = 'item_id')\n",
    "del df_user, df_item\n",
    "gc.collect()"
   ]
  },
  {
   "cell_type": "markdown",
   "metadata": {},
   "source": [
    "__The printing below shows there are 8898 item categories in total.__"
   ]
  },
  {
   "cell_type": "code",
   "execution_count": 5,
   "metadata": {},
   "outputs": [
    {
     "data": {
      "text/plain": [
       "8898"
      ]
     },
     "execution_count": 5,
     "metadata": {},
     "output_type": "execute_result"
    }
   ],
   "source": [
    "df['item_category'].nunique()"
   ]
  },
  {
   "cell_type": "markdown",
   "metadata": {},
   "source": [
    "__Change the column of 'time' to datetime type and use it as index for the dataframe. Meanwhile, the data is sequentially sorted acendingly by 'time' and 'user_id', and descendingly by 'behavior_type'. We can see it is the one month data from 2014-11-18 to 2014-12-18 with 13670706 rows, which also means the purchasing platform is very active among users. From the plot, we can see only 12-12 has more interaction and others are under similar levels.__"
   ]
  },
  {
   "cell_type": "code",
   "execution_count": 56,
   "metadata": {},
   "outputs": [],
   "source": [
    "# Change datatype of 'time' to datetime\n",
    "df['time'] = pd.to_datetime(df['time'])\n",
    "# Sort data acendingly by time, user_id, and descendingly behavior_type by the sequence\n",
    "df.sort_values(['time', 'user_id', 'behavior_type'], ascending=[True, True, False],inplace = True)\n",
    "df.set_index('time', inplace = True) # Set index with time"
   ]
  },
  {
   "cell_type": "code",
   "execution_count": 87,
   "metadata": {
    "scrolled": false
   },
   "outputs": [
    {
     "data": {
      "image/png": "[encoded data removed]",
      "text/plain": [
       "<Figure size 1152x360 with 1 Axes>"
      ]
     },
     "metadata": {
      "needs_background": "light"
     },
     "output_type": "display_data"
    }
   ],
   "source": [
    "fig, ax = plt.subplots(figsize=(16,5))\n",
    "ax.hist(df.index,bins=30,alpha=0.5,histtype='bar',ec='black')\n",
    "ax.set_xlabel('Date',fontsize=17)\n",
    "ax.set_ylabel('Frequency',fontsize=17)\n",
    "ax.set_title('Histogram of interaction counts per day', fontsize = 15)\n",
    "for tick in ax.get_xticklabels():\n",
    "    tick.set_rotation(45)\n",
    "# Format the x axis\n",
    "ax.xaxis.set_major_locator(mdates.DayLocator(interval=1))\n",
    "ax.xaxis.set_major_formatter(DateFormatter(\"%m-%d\"))\n",
    "plt.show()"
   ]
  },
  {
   "cell_type": "markdown",
   "metadata": {},
   "source": [
    "__By printing the missing value, it shows no missing value exists in the 'behavior_type'. Most user and item hashed location information is missing.__"
   ]
  },
  {
   "cell_type": "code",
   "execution_count": 7,
   "metadata": {},
   "outputs": [
    {
     "data": {
      "text/plain": [
       "user_id                      0\n",
       "item_id                      0\n",
       "behavior_type                0\n",
       "user_location_hash     9255016\n",
       "item_category                0\n",
       "item_location_hash    12300593\n",
       "dtype: int64"
      ]
     },
     "execution_count": 7,
     "metadata": {},
     "output_type": "execute_result"
    }
   ],
   "source": [
    "pd.isnull(df).sum()"
   ]
  },
  {
   "cell_type": "markdown",
   "metadata": {},
   "source": [
    "__We can see the unique user number is much smaller than the item number.__"
   ]
  },
  {
   "cell_type": "code",
   "execution_count": 16,
   "metadata": {},
   "outputs": [
    {
     "name": "stdout",
     "output_type": "stream",
     "text": [
      "Unique number of users: 10000\n",
      "Unique number of items: 2914411\n"
     ]
    }
   ],
   "source": [
    "print('Unique number of users: %i' % df['user_id'].nunique())\n",
    "print('Unique number of items: %i' % df['item_id'].nunique())"
   ]
  },
  {
   "cell_type": "markdown",
   "metadata": {},
   "source": [
    "__Plot the histogram to see the number of user interation activities. It denotes that most users heavily involve in this online platform based on the annual data. There are around 50% users with more than 700 activities in 2014.__"
   ]
  },
  {
   "cell_type": "code",
   "execution_count": 17,
   "metadata": {},
   "outputs": [
    {
     "data": {
      "text/plain": [
       "51003537     68813\n",
       "67972803     35390\n",
       "53181951     34968\n",
       "124471795    34343\n",
       "89634823     30740\n",
       "Name: user_id, dtype: int64"
      ]
     },
     "execution_count": 17,
     "metadata": {},
     "output_type": "execute_result"
    }
   ],
   "source": [
    "# Counts of user interactions\n",
    "df_user_counts=df['user_id'].value_counts()\n",
    "df_user_counts.head()"
   ]
  },
  {
   "cell_type": "code",
   "execution_count": 18,
   "metadata": {
    "scrolled": false
   },
   "outputs": [
    {
     "data": {
      "image/png": "[encoded data removed]",
      "text/plain": [
       "<Figure size 1224x432 with 2 Axes>"
      ]
     },
     "metadata": {
      "needs_background": "light"
     },
     "output_type": "display_data"
    }
   ],
   "source": [
    "fig, ax = plt.subplots(figsize=(17,6))\n",
    "lns1 = ax.hist(df_user_counts.values,bins=2000,alpha=0.5,histtype='bar',ec='green',color='r')\n",
    "ax.set_xlabel('Number of total personal activities')\n",
    "ax.set_ylabel('User count', color='r')\n",
    "ax.tick_params(axis='y',colors='r')\n",
    "ax.set_xlim(0,3000)\n",
    "ax.set_title('Histogram of user count & CDF against number of total personal activities')\n",
    "\n",
    "ax2 = ax.twinx()\n",
    "lns2 = ax2.hist(df_user_counts.values, bins = 2000, histtype='step',color='purple', cumulative=True, \n",
    "         linewidth = 1.5, normed=True)\n",
    "ax2.set_ylabel('CDF', color = 'purple')\n",
    "ax2.tick_params(axis='y',colors='purple')\n",
    "\n",
    "fig.tight_layout()\n",
    "plt.show()"
   ]
  },
  {
   "cell_type": "markdown",
   "metadata": {},
   "source": [
    "__However, we know the data is very imbalanced that most users have the behavior of '1: click' by the printout below. However, compared to the other three behaviors, clicking generally means the user is simply browsing to see if the item matches his or her tastes.  Thus, we need to further analyze the user with closer interaction, which means they do: {2: add to wishlist', 3: 'add to cart', 4: 'pay'}.__\n",
    "\n",
    "__It shows 96.5% users have closer interaction. Among them, 68.6% for 'add to wishlist', 86.9% for 'add to cart', 88.7% for 'pay'. With the similar plot above, it shows around 50% of total users have more than 30 times closer interactions in 2014.__"
   ]
  },
  {
   "cell_type": "code",
   "execution_count": 19,
   "metadata": {},
   "outputs": [
    {
     "name": "stdout",
     "output_type": "stream",
     "text": [
      "User behavior type count based on activities:\n"
     ]
    },
    {
     "data": {
      "text/plain": [
       "1    12907307\n",
       "3      393511\n",
       "2      239837\n",
       "4      130051\n",
       "Name: behavior_type, dtype: int64"
      ]
     },
     "execution_count": 19,
     "metadata": {},
     "output_type": "execute_result"
    }
   ],
   "source": [
    "print('User behavior type count based on activities:')\n",
    "df_bhv_counts=df['behavior_type'].value_counts()\n",
    "df_bhv_counts.head()"
   ]
  },
  {
   "cell_type": "code",
   "execution_count": 4,
   "metadata": {},
   "outputs": [
    {
     "name": "stdout",
     "output_type": "stream",
     "text": [
      "There are 9650 users with closer interation, accounting for 96.5% of total users.\n",
      "--------------------------------------------------------------------------------\n",
      "There are 6861 users with add to wishlist, accounting for 68.6% of total users.\n",
      "There are 8689 users with add to cart, accounting for 86.9% of total users.\n",
      "There are 8867 users with payment, accounting for 88.7% of total users.\n"
     ]
    }
   ],
   "source": [
    "mask = df['behavior_type']!=1 # filter with closer interaction\n",
    "mask_2 = df['behavior_type']==2 # filter with 'add to wishlist'\n",
    "mask_3 = df['behavior_type']==3 # filter with 'add to cart'\n",
    "mask_4 = df['behavior_type']==4 # filter with 'pay'\n",
    "user_cnt_closer = df[mask]['user_id'].nunique() # count the unique user with closer interaction\n",
    "user_cnt_2 = df[mask_2]['user_id'].nunique() # count the unique user with 'add to wishlist'\n",
    "user_cnt_3 = df[mask_3]['user_id'].nunique() # count the unique user with 'add to cart'\n",
    "user_cnt_4 = df[mask_4]['user_id'].nunique() # count the unique user with 'pay'\n",
    "print('There are %i users with closer interation, accounting for %.1f%% of total users.'\n",
    "      % (user_cnt_closer, user_cnt_closer/df['user_id'].nunique()*100))\n",
    "print('-'*80)\n",
    "print('There are %i users with add to wishlist, accounting for %.1f%% of total users.'\n",
    "      % (user_cnt_2, user_cnt_2/df['user_id'].nunique()*100))\n",
    "print('There are %i users with add to cart, accounting for %.1f%% of total users.'\n",
    "      % (user_cnt_3, user_cnt_3/df['user_id'].nunique()*100))\n",
    "print('There are %i users with payment, accounting for %.1f%% of total users.'\n",
    "      % (user_cnt_4, user_cnt_4/df['user_id'].nunique()*100))"
   ]
  },
  {
   "cell_type": "code",
   "execution_count": 21,
   "metadata": {},
   "outputs": [
    {
     "data": {
      "image/png": "[encoded data removed]",
      "text/plain": [
       "<Figure size 1224x432 with 2 Axes>"
      ]
     },
     "metadata": {
      "needs_background": "light"
     },
     "output_type": "display_data"
    }
   ],
   "source": [
    "df_closer_cnt = df[mask]['user_id'].value_counts()\n",
    "fig, ax = plt.subplots(figsize=(17,6))\n",
    "lns1 = ax.hist(df_closer_cnt.values,bins=3000,alpha=0.5,histtype='bar',ec='green',color='r')\n",
    "ax.set_xlabel('Number of total personal closer interactions')\n",
    "ax.set_ylabel('User count', color='r')\n",
    "ax.tick_params(axis='y',colors='r')\n",
    "ax.set_xlim(0,200)\n",
    "ax.set_title('Histogram of user count & CDF against number of total personal closer interactions (behavior_type>1)')\n",
    "\n",
    "ax2 = ax.twinx()\n",
    "lns2 = ax2.hist(df_closer_cnt.values, bins = 3000, histtype='step',color='purple', cumulative=True, \n",
    "         linewidth = 1.5, normed=True)\n",
    "ax2.set_ylabel('CDF', color = 'purple')\n",
    "ax2.tick_params(axis='y',colors='purple')\n",
    "\n",
    "fig.tight_layout()\n",
    "plt.show()"
   ]
  },
  {
   "cell_type": "markdown",
   "metadata": {},
   "source": [
    "__Currently, there are 13670706 rows in the data, which is too heavy to be processed with useless data. To reduce the size of it, rows with clicking activities are removed since clicking doesn't mean the user has strong interests in it. Also, the removed rows include all inactive users and unpopular items that are only with clicking. It shows 763399 rows are kept by removing 94.4% rows. In total, 9650 users and 448856 items are retained.__"
   ]
  },
  {
   "cell_type": "code",
   "execution_count": 5,
   "metadata": {
    "scrolled": true
   },
   "outputs": [
    {
     "name": "stdout",
     "output_type": "stream",
     "text": [
      "763399 rows left with 94.4% rows removed from the original data.\n"
     ]
    }
   ],
   "source": [
    "df = df[mask] # Use the mask created above considering closer interaction\n",
    "print(str('%i rows left with %.1f%% rows removed from the original data.'\n",
    "          %(df.shape[0],(1-df.shape[0]/13670706)*100)))"
   ]
  },
  {
   "cell_type": "code",
   "execution_count": 6,
   "metadata": {},
   "outputs": [
    {
     "name": "stdout",
     "output_type": "stream",
     "text": [
      "The retained number of users: 9650\n",
      "The retained number of items: 448856\n"
     ]
    }
   ],
   "source": [
    "print('The retained number of users: %i' % df['user_id'].nunique())\n",
    "print('The retained number of items: %i' % df['item_id'].nunique())"
   ]
  },
  {
   "cell_type": "code",
   "execution_count": 7,
   "metadata": {},
   "outputs": [],
   "source": [
    "# Remove the hashed location of both users and items due to mostly missed value\n",
    "df.drop(columns=['user_location_hash', 'item_location_hash'], inplace=True)\n",
    "df.to_csv('data_proc.csv') # save the processed data"
   ]
  },
  {
   "cell_type": "markdown",
   "metadata": {},
   "source": [
    "<a id='section_crit'></a>\n",
    "## 2. Evaluation criteria\n",
    "\n",
    "In order to evaluate the performance of the recommender system, we split the data by the ratio of __7:3__ by the time sequence. First, the __assumption__ is made that items with closer interaction ('behavior_type'>1) only in training and not in validation sets have been taken down by the merchant. It is common in reality such as the coupons or tickets only for sale before its happening, or the commodities have been sold out, etc. So in this case, they are not allowed to have closer interactions but can probably be clicked through by telling they are invalid. \n",
    "\n",
    "As a result, only retain items exist in both training and validation sets. Another reason is that items only in validation set mean they are cold starter/new items. Furthermore, evaluation can be better implemented. The smaller training dataset can provide more efficient recommending processes. Similarly, users only in validation data are removed since they are cold starter. In this test, cold start users will be recommended with the top five items with the highest sum of 'behavior_type'."
   ]
  },
  {
   "cell_type": "code",
   "execution_count": 17,
   "metadata": {},
   "outputs": [
    {
     "name": "stdout",
     "output_type": "stream",
     "text": [
      "Rows of Train data: 534379\n",
      "Rows of Validation data: 229020\n"
     ]
    }
   ],
   "source": [
    "# Split data\n",
    "mask = int(df.shape[0]*0.7)\n",
    "df_train = df[:mask]\n",
    "df_val = df[mask:]\n",
    "print('Rows of Train data: %i' % df_train.shape[0])\n",
    "print('Rows of Validation data: %i' % df_val.shape[0])"
   ]
  },
  {
   "cell_type": "code",
   "execution_count": 19,
   "metadata": {
    "scrolled": true
   },
   "outputs": [
    {
     "name": "stdout",
     "output_type": "stream",
     "text": [
      "Rows of Train data: 163805\n",
      "Rows of Validation data: 112463\n"
     ]
    }
   ],
   "source": [
    "# Item list to be retained\n",
    "item_list = set(df_val['item_id']) & set(df_train['item_id'])\n",
    "# Mask for train data\n",
    "mask_train = np.isin(df_train['item_id'], list(item_list))\n",
    "# Retain rows in train\n",
    "df_train = df_train[mask_train]\n",
    "\n",
    "# Item mask for validation data\n",
    "mask_val_item = np.isin(df_val['item_id'], list(item_list))\n",
    "\n",
    "# User mask for validation data by removing new start users\n",
    "user_remove_list = set(df['user_id']) - set(df_train['user_id'])\n",
    "mask_val_user = ~np.isin(df_val['user_id'], list(user_remove_list))\n",
    "mask_val = mask_val_item & mask_val_user\n",
    "df_val = df_val[mask_val]\n",
    "print('Rows of Train data: %i' % df_train.shape[0])\n",
    "print('Rows of Validation data: %i' % df_val.shape[0])"
   ]
  },
  {
   "cell_type": "code",
   "execution_count": 20,
   "metadata": {},
   "outputs": [],
   "source": [
    "# Save processed data\n",
    "df_train.to_csv('data_train.csv')\n",
    "df_val.to_csv('data_val.csv')"
   ]
  },
  {
   "cell_type": "markdown",
   "metadata": {},
   "source": [
    " <a id='section_metrics'></a>\n",
    "In terms of the metrics, there are mainly two sections. The short list is below:\n",
    " - __Evaluating error of score/rating:__\n",
    "     - __MAE__\n",
    "     - __MSE__\n",
    "     - __RMSE__\n",
    "\n",
    " - __Evaluating list of recommendation (based on relevancy levels):__ \n",
    "     - __Precision, Recall and F1 score:__ Suitable for imbalanced data\n",
    "     - __Receiver Operating Characteristic (ROC) curve:__ False positive rate (x-axis) vs. the true positive rate (y-axis). It is not suitable for imbalanced data\n",
    "     - __Mean Average Precision (MAP):__ Summarizes the weighted increase in precision with each change in recall for the thresholds in the precision-recall curve\n",
    "     - __Area under curve (AUC):__ Summarizes the integral or an approximation of the area under the precision-recall or ROC curve\n",
    "\n",
    "In this test, error validation is conducted using MAE and RMSE by comparing the original and predicted rating using the validation set.\n",
    "\n",
    "Moreover, the list of recommendation is evaluated using __Precision__ and __Recall__. Due to the data analysis in Part 1, the data is highly imbalanced with most scores of {1: Clicking}, aka. the high true negative. It makes sense in the real markets that most people only have interaction with small number of items. Thus, precision and recall are selected as the metrics since they work well in the imbalance. The reason is that both precision and recall don't make use of __true negative__ (the grey color region below, sourse: _Wikipedia_), which stands for the unrecommended items in this test. A problem with recall and precision is that usually, recall increases as predicted recomendation size is increased while precision decreases as the is increased. Thus, F1 score is used to balance this trade-off effect.\n",
    "\n",
    "For each user, the definition of the three metrics are:\n",
    "\n",
    "__Recall__ = # of relevant recommendations  / # of items we recommend\n",
    "\n",
    "__Precision__ = # of relevant recommendations / # of all the possible relevant items\n",
    "\n",
    "__F1__ = (2 * Recall * Precision) / (Recall + Precision)\n",
    "\n",
    "<img src=https://upload.wikimedia.org/wikipedia/commons/thumb/2/26/Precisionrecall.svg/800px-Precisionrecall.svg.png width=\"300\">\n",
    "<a href='#section1'></a>"
   ]
  },
  {
   "cell_type": "code",
   "execution_count": 401,
   "metadata": {},
   "outputs": [],
   "source": [
    "def error(predict, true, threshold = 3):\n",
    "    '''\n",
    "    Recall = # of relevant recommendations / # of items we recommend\n",
    "    Precision = # of relevant recommendations / # of all the possible relevant items\n",
    "    F1 = 2 * Precision * Recall / (Recall + Precision)\n",
    "    \n",
    "    Input:\n",
    "        predict: predicted score\n",
    "        true: score from validation data\n",
    "        threshold: the threshold to generate binary classified value\n",
    "    Output:\n",
    "        MAE, RMSE, precision, recall, f1\n",
    "    '''\n",
    "    \n",
    "    diff = np.subtract(predict, true)\n",
    "    mae = np.abs(diff).mean()\n",
    "    rmse = np.sqrt((np.square(diff).mean()))\n",
    "    \n",
    "    # precision and recall\n",
    "    true_mask = np.array(true)>=threshold\n",
    "    prec_mask = np.array(predict)>=threshold\n",
    "    size_hit = (true_mask & prec_mask).sum()\n",
    "    prec_deno = prec_mask.sum() # denominator of precision\n",
    "    recall_deno = true_mask.sum() # denominator of recall\n",
    "    if prec_deno == 0:\n",
    "        precision = recall = -1\n",
    "        f1 = -1\n",
    "    elif recall_deno == 0:\n",
    "        precision = recall = -1\n",
    "        f1 = -1\n",
    "    else:\n",
    "        precision = size_hit / prec_deno\n",
    "        recall = size_hit / recall_deno\n",
    "        f1 = 2 * precision * recall / (precision + recall)\n",
    "    \n",
    "    return mae, rmse, precision, recall, f1"
   ]
  },
  {
   "cell_type": "markdown",
   "metadata": {},
   "source": [
    " <a id='section_lil'></a>\n",
    "## 3. Recommender system\n",
    "\n",
    "In this part, three recommender systems: __1) User-user simililarity collaborative filtering__, __2) Trancated SVD__, and __3) Baseline model based on past user interactions__ are developed.\n",
    "\n",
    "For models 1) and 2), they both need a utility matrix that is a matrix constructed with full user_id as the row and item_id as the column, which is very sparse. So far, the name of the user_id and item_id are hashed with index meaning. What needs to do is to build it using sparse matrix to save space and time instead of the pivot table that easily causes memory explosion. __Row based Linked List (lil) sparse matrix__ is used here since it is better for contruction and supports flexible slicing. As the contruction based on training data is still a time-consuming process, the built sparse matrix is saved with __Compressed Sparse Row (csr)__ format to be reloaded for recommender systems.\n",
    " <a id='section_hash'></a>"
   ]
  },
  {
   "cell_type": "markdown",
   "metadata": {},
   "source": [
    "__In order to better index, user_id and iterm_id are hashed. Meanwhile, the inversed hash is built as well__."
   ]
  },
  {
   "cell_type": "code",
   "execution_count": 22,
   "metadata": {
    "scrolled": true
   },
   "outputs": [
    {
     "name": "stdout",
     "output_type": "stream",
     "text": [
      "Execution time: 0.330176 seconds\n"
     ]
    }
   ],
   "source": [
    "start_time = time()\n",
    "\n",
    "# Hash user_id and item_id to easily build sparse matrix\n",
    "user_hash = {i:j for i, j in zip(df_train['user_id'].unique(), np.arange(df_train['user_id'].nunique()))}\n",
    "item_hash = {i:j for i, j in zip(df_train['item_id'].unique(), np.arange(df_train['item_id'].nunique()))}\n",
    "\n",
    "# Inverse hash for later use\n",
    "user_hash_inv = {i:j for i, j in zip(np.arange(df_train['user_id'].nunique()), df_train['user_id'].unique())}\n",
    "item_hash_inv = {i:j for i, j in zip(np.arange(df_train['item_id'].nunique()), df_train['item_id'].unique())}\n",
    "\n",
    "# Hashing. (Map is super faster than replace that is w/ memory explosion)\n",
    "df_train['user_id'] = df_train['user_id'].map(user_hash) \n",
    "df_train['item_id'] = df_train['item_id'].map(item_hash)\n",
    "df_val['user_id'] = df_val['user_id'].map(user_hash) \n",
    "df_val['item_id'] = df_val['item_id'].map(item_hash)\n",
    "\n",
    "print(\"Execution time: %f seconds\" % (time()-start_time))"
   ]
  },
  {
   "cell_type": "code",
   "execution_count": 24,
   "metadata": {},
   "outputs": [
    {
     "name": "stdout",
     "output_type": "stream",
     "text": [
      "Execution time: 24.059991 seconds\n"
     ]
    }
   ],
   "source": [
    "start_time = time()\n",
    "# Construct sparse matrix as the untility matrix for training data.\n",
    "user_dim = df_train['user_id'].nunique()\n",
    "item_dim = df_train['item_id'].nunique()\n",
    "util_mat = sparse.lil_matrix((user_dim, item_dim)) # lil is good at constructing\n",
    "for _, row in df_train.iterrows(): # Construction takes a little long time, but much better than pivot table\n",
    "    if util_mat[row.user_id, row.item_id] != 0: # Keep the highest interaction\n",
    "        util_mat[row.user_id, row.item_id] = max(util_mat[row.user_id, row.item_id], row.behavior_type)\n",
    "    else:\n",
    "        util_mat[row.user_id, row.item_id] = row.behavior_type\n",
    "print(\"Execution time: %f seconds\" % (time()-start_time))"
   ]
  },
  {
   "cell_type": "code",
   "execution_count": 25,
   "metadata": {
    "scrolled": true
   },
   "outputs": [
    {
     "data": {
      "text/plain": [
       "<8737x74246 sparse matrix of type '<class 'numpy.float64'>'\n",
       "\twith 108742 stored elements in LInked List format>"
      ]
     },
     "execution_count": 25,
     "metadata": {},
     "output_type": "execute_result"
    }
   ],
   "source": [
    "util_mat"
   ]
  },
  {
   "cell_type": "code",
   "execution_count": 26,
   "metadata": {},
   "outputs": [],
   "source": [
    "# Save the sparse matrix\n",
    "scipy.sparse.save_npz('sparse_utility_matrix.npz', util_mat.tocsr())"
   ]
  },
  {
   "cell_type": "markdown",
   "metadata": {},
   "source": [
    "<a id='section_cf'></a>\n",
    "### 3.1 User-User Similarity Collaborative Filter Recommender\n",
    "\n",
    "Previous work have saved __1) the processed dataframe with user_id and item_id unhashed__, __2) hash maps__, and __3) utility sparse matrix__. They will be used below by reloading, improving recommender engine efficiency.\n",
    "\n",
    "After calculating the cosine similarity matrix using the utility matrix, the score $r_{aj}$ of an unrated item j for a specific user a can be estimated from the equation shown below, where _N(a)_ is the nearest neighbor set of user a, and $s_{aj}$ is the similarity between user a and j. In the example case below, the similarity values are assumed with 1.0. In the code implementation, if no neighbors have rated one item, score of zero will be assigned.\n",
    "\n",
    "<img src=https://image.slidesharecdn.com/recommendersystemnavisroanalytics-120818125400-phpapp02/95/collaborative-filtering-and-recommender-systems-by-navisro-analytics-6-728.jpg?cb\\u003d1345294669 width=\"700\">\n",
    "\n",
    "\n",
    "__Reload data__"
   ]
  },
  {
   "cell_type": "code",
   "execution_count": 7,
   "metadata": {},
   "outputs": [
    {
     "name": "stdout",
     "output_type": "stream",
     "text": [
      "Execution time: 6.814404 seconds\n"
     ]
    }
   ],
   "source": [
    "start_time = time()\n",
    "\n",
    "# Reload data\n",
    "df_train = pd.read_csv('data_train.csv', index_col = 'time')\n",
    "df_val = pd.read_csv('data_val.csv', index_col = 'time')\n",
    "df_train.drop(columns='Unnamed: 0', inplace=True)\n",
    "df_val.drop(columns='Unnamed: 0', inplace=True)\n",
    "\n",
    "# Load the sparse matrix and convert to lil sparse\n",
    "util_mat = scipy.sparse.load_npz('sparse_utility_matrix.npz')\n",
    "util_mat = util_mat.tolil()\n",
    "# Compute similarity matrix\n",
    "user_sim_mat = cosine_similarity(util_mat)\n",
    "item_sim_mat = cosine_similarity(util_mat.T)\n",
    "\n",
    "# Hash user_id and item_id to easily index\n",
    "user_hash = {i:j for i, j in zip(df_train['user_id'].unique(), np.arange(df_train['user_id'].nunique()))}\n",
    "item_hash = {i:j for i, j in zip(df_train['item_id'].unique(), np.arange(df_train['item_id'].nunique()))}\n",
    "\n",
    "# Inverse hash\n",
    "user_hash_inv = {i:j for i, j in zip(np.arange(df_train['user_id'].nunique()), df_train['user_id'].unique())}\n",
    "\n",
    "# Hashing\n",
    "df_train['user_id'] = df_train['user_id'].map(user_hash) \n",
    "df_train['item_id'] = df_train['item_id'].map(item_hash)\n",
    "df_val['user_id'] = df_val['user_id'].map(user_hash) \n",
    "df_val['item_id'] = df_val['item_id'].map(item_hash)\n",
    "\n",
    "# user_id list, used for check if users are cold starter\n",
    "list_user = set(df_train['user_id'])\n",
    "list_item_total = set(df_train['item_id'])\n",
    "\n",
    "# Recommend list for cold starter (new user) with the most activities\n",
    "list_ct = df_train['item_id'].value_counts()[:5].index.values\n",
    "\n",
    "print(\"Execution time: %f seconds\" % (time()-start_time))"
   ]
  },
  {
   "cell_type": "markdown",
   "metadata": {},
   "source": [
    "__Calculate nearest neighbors respect to the specific user for obtaining weighted scores.__"
   ]
  },
  {
   "cell_type": "code",
   "execution_count": 10,
   "metadata": {},
   "outputs": [],
   "source": [
    "def knn(id_int, k, sim_mat):\n",
    "    '''\n",
    "    Input:\n",
    "        id_int: the hashed id to be interested. User_id or Item_id\n",
    "        k: k nearest neighbor to be output\n",
    "        sim_mat: similarity matrix. Item or User\n",
    "        \n",
    "    Ouput:\n",
    "        k nearest neighbor for user_id\n",
    "    '''\n",
    "    pool = np.argsort(sim_mat[id_int])[-k-1:-1] # -1, Since the last one is itself\n",
    "    return pool[sim_mat[id_int, pool] != 0] # Only return users w/ similarity not 0"
   ]
  },
  {
   "cell_type": "markdown",
   "metadata": {},
   "source": [
    "__Recommend 5 items for the interested user. Cosine similarity is used to calculate the similarity matrix. Then k nearest neighbor is used to provide the similar users for calculating weighted interaction score. Finally, the 5 items with top weighted scores are recommended.__"
   ]
  },
  {
   "cell_type": "code",
   "execution_count": 102,
   "metadata": {},
   "outputs": [],
   "source": [
    "# User-User Collaborative Filtering model\n",
    "def cf_user(user_id, n_items=5,  error=False, user_hash_in=False, item_hash_out=True, user_sim_mat=user_sim_mat):\n",
    "    '''\n",
    "    Input:\n",
    "        user_id: unhashed user_id\n",
    "        n_items: n items to be recommended, 5 in this project.\n",
    "        error: boolean to turn on or off the evaluation mode\n",
    "        user_hash_in: If the input is hashed user_id (0,1,2,...). Default is False\n",
    "        item_hash_out: If the output needs to be hashed item_id (0,1,2,...). Default is True\n",
    "        user_sim_mat: User-User similarity matrix\n",
    "    Ouput:\n",
    "        return recomended n_items\n",
    "    '''\n",
    "    start_time = time()\n",
    "    \n",
    "    if not user_hash_in: # if input is unhashed\n",
    "        user_id = user_hash[user_id] # Get mapped user_id from hash table\n",
    "    \n",
    "    # Check if this is a cold starter (new user)\n",
    "    if user_id not in list_user:\n",
    "        print('This is a cold start user.')\n",
    "        return list_ct\n",
    "\n",
    "    # Consider 100 nearest neighbors, but only nonzero similarity user returned\n",
    "    nb_users = knn(user_id, 100, user_sim_mat)\n",
    "    # Initialize the dict storing the pair: (user_id: weighted inteaction score) \n",
    "    pool_id = []\n",
    "    pool_score = []\n",
    "    # Find items that have been rated by the user\n",
    "    items_rated = set(util_mat[user_id].nonzero()[1])\n",
    "    items_unrated = list_item_total - items_rated # difference between two sets\n",
    "    \n",
    "    for item_to_pred in items_unrated:\n",
    "        # Only consider neighbor users w/ closer interaction into calculation\n",
    "        candidate = np.array(util_mat[nb_users, item_to_pred].todense()).squeeze()\n",
    "        user_pool = nb_users[candidate>1]\n",
    "        if len(user_pool) != 0: # ensure at lease one neighbor rated the item\n",
    "            deno = 0 # denomintor of the score\n",
    "            score = 0\n",
    "            # calculating score\n",
    "            for user in user_pool:\n",
    "                b = user_sim_mat[user_id, user]\n",
    "                a = util_mat[user, item_to_pred]\n",
    "                deno += b\n",
    "                score += a*b\n",
    "            score /= deno\n",
    "            pool_id.append(item_to_pred)\n",
    "            pool_score.append(score)\n",
    "                \n",
    "    # Recommend top n_items by the score\n",
    "    list_item = np.argsort(pool_score)[-n_items:]\n",
    "    pool_id = np.array(pool_id)[list_item]\n",
    "    \n",
    "    if len(pool_id) < n_items:# if list size < 5, add most popular items\n",
    "        for i in range(n_items - len(pool_id)):\n",
    "            pool_id.append(list_ct[i])\n",
    "    \n",
    "    if not item_hash_out: # if unhashed item_id is required\n",
    "        pool_id = [item_hash_inv[i] for i in pool_id]\n",
    "        \n",
    "    # Release memory\n",
    "    del user_sim_mat, nb_users, items_rated\n",
    "    gc.collect()\n",
    "    \n",
    "    print(\"Execution time: %f seconds\" % (time()-start_time))\n",
    "    \n",
    "    return pool_id , np.array(pool_score)[list_item]"
   ]
  },
  {
   "cell_type": "code",
   "execution_count": 12,
   "metadata": {},
   "outputs": [
    {
     "name": "stdout",
     "output_type": "stream",
     "text": [
      "Execution time: 6.339402 seconds\n"
     ]
    },
    {
     "data": {
      "text/plain": [
       "(array([55942,  9607,  9584,  9497, 29907]), array([4., 4., 4., 4., 4.]))"
      ]
     },
     "execution_count": 12,
     "metadata": {},
     "output_type": "execute_result"
    }
   ],
   "source": [
    "user_id = user_hash_inv[200] # Pick a lucky user\n",
    "cf_user(user_id)"
   ]
  },
  {
   "cell_type": "markdown",
   "metadata": {},
   "source": [
    "<a id='section_tsvd'></a>\n",
    "### 3.2 Trancated SVD"
   ]
  },
  {
   "cell_type": "markdown",
   "metadata": {},
   "source": [
    "In the plot below, 500 components can reach explained variance more than 50%. So it is used."
   ]
  },
  {
   "cell_type": "code",
   "execution_count": 248,
   "metadata": {},
   "outputs": [
    {
     "name": "stdout",
     "output_type": "stream",
     "text": [
      "Execution time: 59.258606 seconds\n"
     ]
    }
   ],
   "source": [
    "def fit_uvd(M,k):\n",
    "    start_time = time()\n",
    "    # use TruncatedSVD to realize UVD\n",
    "    svd = TruncatedSVD(n_components=k, n_iter=7, random_state=0)\n",
    "    svd.fit(M)\n",
    "\n",
    "    V = svd.components_\n",
    "    U = svd.transform(M) # effectively, it's doing: U = M.dot(V.T)\n",
    "    \n",
    "    print(\"Execution time: %f seconds\" % (time()-start_time))\n",
    "    return U,V, svd\n",
    "\n",
    "# decompose\n",
    "U,V,svd = fit_uvd(util_mat, 1000)"
   ]
  },
  {
   "cell_type": "code",
   "execution_count": 199,
   "metadata": {},
   "outputs": [
    {
     "data": {
      "image/png": "[encoded data removed]",
      "text/plain": [
       "<Figure size 576x360 with 1 Axes>"
      ]
     },
     "metadata": {
      "needs_background": "light"
     },
     "output_type": "display_data"
    }
   ],
   "source": [
    "plt.figure(figsize=(8,5))\n",
    "plt.plot(np.cumsum(svd.explained_variance_ratio_), '-g')\n",
    "plt.xlabel('Number of principal components')\n",
    "plt.ylabel('Cumulative explained variance')\n",
    "plt.yticks(np.arange(0.0,1.05,0.1))\n",
    "plt.show()"
   ]
  },
  {
   "cell_type": "code",
   "execution_count": 249,
   "metadata": {},
   "outputs": [
    {
     "name": "stdout",
     "output_type": "stream",
     "text": [
      "Execution time: 193.208363 seconds\n"
     ]
    }
   ],
   "source": [
    "# reconstruct\n",
    "start_time = time()\n",
    "#score_mat_fitted = U.dot(V) # U*V # This is slower\n",
    "score_mat_fitted = svd.inverse_transform(svd.transform(util_mat))\n",
    "print(\"Execution time: %f seconds\" % (time()-start_time))"
   ]
  },
  {
   "cell_type": "code",
   "execution_count": 38,
   "metadata": {},
   "outputs": [],
   "source": [
    "# Recommendation\n",
    "def tsvd_model(user_id, n_items = 5,user_hash_in=False, item_hash_out=True):\n",
    "    '''\n",
    "    Input:\n",
    "        user_id: unhashed user_id\n",
    "        n_items: n items to be recommended, 5 in this project.\n",
    "        user_hash_in: If the input is hashed user_id (0,1,2,...). Default is False\n",
    "        item_hash_out: If the output needs to be hashed item_id (0,1,2,...). Default is True\n",
    "    Output:\n",
    "        return recomended n_items\n",
    "    '''\n",
    "    if not user_hash_in: # if input is unhashed\n",
    "        user_id = user_hash[user_id] # Get mapped user_id from hash table\n",
    "    \n",
    "    # Check if this is a cold starter (new user)\n",
    "    if user_id not in list_user:\n",
    "        print('This is a cold start user.')\n",
    "        return list_ct\n",
    "        \n",
    "    pred_score = score_mat_fitted[user_id,:]\n",
    "    item_index_sorted = list(np.argsort(pred_score))[::-1]\n",
    "    # Ensure it is unscored\n",
    "    items_scored = util_mat[user_id].nonzero()[1]\n",
    "    pool_id = [item for item in item_index_sorted if item not in items_scored][:n_items]\n",
    "    \n",
    "    if not item_hash_out: # if unhased item_id is required\n",
    "        pool_id = [item_hash_inv[i] for i in pool_id]\n",
    "\n",
    "    return pool_id"
   ]
  },
  {
   "cell_type": "code",
   "execution_count": 39,
   "metadata": {},
   "outputs": [
    {
     "data": {
      "text/plain": [
       "[9723, 6422, 15377, 34479, 34476]"
      ]
     },
     "execution_count": 39,
     "metadata": {},
     "output_type": "execute_result"
    }
   ],
   "source": [
    "user_id = user_hash_inv[200] # Pick a lucky user\n",
    "tsvd_model(user_id)"
   ]
  },
  {
   "cell_type": "markdown",
   "metadata": {},
   "source": [
    "<a id='section_bm'></a>\n",
    "### 3.3 Baseline recommendation model (Bonus 1) \n",
    "\n",
    "Based on the training data, recommend the top five most popular unscored items in the catogory that has the highest summation of 'behavior_type' with the specific user."
   ]
  },
  {
   "cell_type": "code",
   "execution_count": 40,
   "metadata": {},
   "outputs": [],
   "source": [
    "def baseline(user_id, n_items=5, user_hash_in=False, item_hash_out=True):\n",
    "    '''\n",
    "    This baseline model is to recommend the top five most popular unscored items in the catogory with the\n",
    "    highest summation of 'behavior_type' for the specific user.\n",
    "    \n",
    "    Input:\n",
    "        user_id: unhashed intersted user\n",
    "        n_items: number of items to be recommended, 5 in this test\n",
    "        user_hash_in: If the input is hashed user_id (0,1,2,...). Default is False\n",
    "        item_hash_out: If the output needs to be hashed item_id (0,1,2,...). Default is True\n",
    "    Output:\n",
    "        recommended n_items item_id\n",
    "    '''\n",
    "    if not user_hash_in: # if input is unhashed\n",
    "        user_id = user_hash[user_id] # Get mapped user_id from hash table\n",
    "    \n",
    "    # Check if this is a cold starter (new user)\n",
    "    if user_id not in list_user:\n",
    "        print('This is a cold start user.')\n",
    "        return list_ct\n",
    "    \n",
    "    list_recommend = []\n",
    "    # find the category for the user_id with the highest summation of behavior_type \n",
    "    baseline = df_train.groupby(['user_id','item_category'])['behavior_type'].sum()[user_id]\n",
    "    category = baseline.sort_values(ascending = False).index[0] \n",
    "    \n",
    "    # find most popular items in the category\n",
    "    popular_item = df_train.groupby(['item_category','item_id'])['behavior_type'].sum()[category]\n",
    "    \n",
    "    n=0 # flag to quit\n",
    "    for item in popular_item.sort_values(ascending = False).index.values:\n",
    "        if util_mat[user_id, item] == 0: # make sure it is not interacted before for the user_id\n",
    "            list_recommend.append(item)\n",
    "            n += 1\n",
    "            if n == n_items: # we only need n_items items to be recommendedxs\n",
    "                break\n",
    "                \n",
    "    if not item_hash_out: # if unhased item_id is required\n",
    "        list_recommend = [item_hash_inv[i] for i in list_recommend]\n",
    "    \n",
    "    return list_recommend # return unhashed item_id"
   ]
  },
  {
   "cell_type": "markdown",
   "metadata": {},
   "source": [
    "<a id='section_eva'></a>\n",
    "## 4. Evaluation\n",
    "\n",
    "Use RMSE and MAE to evaluate the score for the pair of (user_id, item_id) only appear in the validation set. By processing, it shows there are 60705 pairs only in validation set. Thus we randomly select 10000 of them for evaluation with RMSE, MAE and f1 score.\n",
    "\n",
    "For the baseline model, since the model in Part 3.3 is to give recomendation list. Here, we use average score of the user's 'behavior_type' in the training set."
   ]
  },
  {
   "cell_type": "code",
   "execution_count": 130,
   "metadata": {},
   "outputs": [
    {
     "name": "stdout",
     "output_type": "stream",
     "text": [
      "Execution time: 26.793880 seconds\n"
     ]
    }
   ],
   "source": [
    "# set: pair of user_id and item_id\n",
    "start_time = time()\n",
    "\n",
    "train_pair, val_pair = set(), set()\n",
    "\n",
    "for _, row in df_train.iterrows():\n",
    "    train_pair.add((row.user_id, row.item_id, row.behavior_type))\n",
    "    \n",
    "for _, row in df_val.iterrows():\n",
    "    val_pair.add((row.user_id, row.item_id, row.behavior_type))\n",
    "    \n",
    "print(\"Execution time: %f seconds\" % (time()-start_time))"
   ]
  },
  {
   "cell_type": "code",
   "execution_count": 132,
   "metadata": {},
   "outputs": [
    {
     "name": "stdout",
     "output_type": "stream",
     "text": [
      "There are 60705 pairs only in validation set.\n"
     ]
    }
   ],
   "source": [
    "pair_val = val_pair - train_pair & val_pair\n",
    "print('There are %i pairs only in validation set.' % len(pair_val))"
   ]
  },
  {
   "cell_type": "code",
   "execution_count": 330,
   "metadata": {},
   "outputs": [],
   "source": [
    "# Randomly select 500 users from the pool\n",
    "np.random.seed(0)\n",
    "pair_pool = random.sample(pair_val,10000)"
   ]
  },
  {
   "cell_type": "markdown",
   "metadata": {},
   "source": [
    "For the baseline model, since the model in Part 3.3 is to give recomendation list. Here, we use average score of the user's 'behavior_type' in the training set.\n",
    " <a id='section_bmave'></a>"
   ]
  },
  {
   "cell_type": "code",
   "execution_count": 332,
   "metadata": {},
   "outputs": [],
   "source": [
    "cf_score, tsvd_score, baseline_score, true_score = [], [], [], []\n",
    "\n",
    "for user_id, item_id, score in pair_pool:\n",
    "    # save the predicted score\n",
    "    \n",
    "    ############################\n",
    "    ####### Truncated SVD ######\n",
    "    ############################\n",
    "    tsvd_score.append(score_mat_fitted[user_id, item_id])\n",
    "        \n",
    "    #############################\n",
    "    ####### Baseline model ######\n",
    "    #############################\n",
    "    base_pool = util_mat[user_id].nonzero()[1]\n",
    "    base_result = util_mat[user_id, base_pool].mean()\n",
    "    baseline_score.append(base_result)\n",
    "    \n",
    "    ######################################\n",
    "    ####### Collaborative Filtering ######\n",
    "    ######################################\n",
    "    nb_users = knn(user_id, 100, user_sim_mat)\n",
    "    # Only consider neighbor users w/ closer interaction into calculation\n",
    "    candidate = np.array(util_mat[nb_users, item_id].todense()).squeeze()\n",
    "    user_pool_cf = nb_users[candidate>1]\n",
    "    result_cf = 0\n",
    "    if len(user_pool_cf) != 0: # ensure at lease one neighbor rated the item\n",
    "        deno_cf = 0 # denomintor of the score\n",
    "        # calculating score\n",
    "        for user in user_pool_cf:\n",
    "            b_cf = user_sim_mat[user_id, user]\n",
    "            a_cf = util_mat[user, item_id]\n",
    "            deno_cf += b_cf\n",
    "            result_cf += a_cf * b_cf\n",
    "        result_cf /= deno_cf\n",
    "        cf_score.append(result_cf)\n",
    "    else:\n",
    "        cf_score.append(base_result)\n",
    "    \n",
    "    #########################\n",
    "    ####### True score ######\n",
    "    #########################\n",
    "    true_score.append(score)"
   ]
  },
  {
   "cell_type": "code",
   "execution_count": 347,
   "metadata": {},
   "outputs": [
    {
     "name": "stdout",
     "output_type": "stream",
     "text": [
      "Error Report:\n",
      "----------------------------------------\n",
      "User-User Collaborative Filtering:\n",
      "MAE: 0.59216, RMSE: 0.74434\n",
      "----------------------------------------\n",
      "Truncated SVD:\n",
      "MAE: 2.46022, RMSE: 2.66187\n",
      "----------------------------------------\n",
      "Baseline model:\n",
      "MAE: 0.57759, RMSE: 0.70935\n"
     ]
    }
   ],
   "source": [
    "print('Error Report:')\n",
    "print('-'*40)\n",
    "print('User-User Collaborative Filtering:\\nMAE: %.5f, RMSE: %.5f' \n",
    "      % ((error(true_score, cf_score)[0]),error(true_score, cf_score)[1]))\n",
    "print('-'*40)\n",
    "print('Truncated SVD:\\nMAE: %.5f, RMSE: %.5f' \n",
    "      % ((error(true_score, tsvd_score)[0]),error(true_score, tsvd_score)[1]))\n",
    "print('-'*40)\n",
    "print('Baseline model:\\nMAE: %.5f, RMSE: %.5f' \n",
    "      % ((error(true_score, baseline_score)[0]),error(true_score, baseline_score)[1]))"
   ]
  },
  {
   "cell_type": "code",
   "execution_count": 371,
   "metadata": {},
   "outputs": [],
   "source": [
    "# Build dictionary with keys of users and values with items\n",
    "user_dict=defaultdict(list)\n",
    "for user, item, _ in pair_pool:\n",
    "    user_dict[user].append(item)\n",
    "# Select users with more than 10 items as the test\n",
    "user_list=[]\n",
    "for user, item in user_dict.items():\n",
    "    if len(item)>10:\n",
    "        user_list.append(user)"
   ]
  },
  {
   "cell_type": "markdown",
   "metadata": {},
   "source": [
    " <a id='section_cc'></a>"
   ]
  },
  {
   "cell_type": "code",
   "execution_count": 402,
   "metadata": {},
   "outputs": [],
   "source": [
    "cf_precision, cf_recall, cf_f1 = [], [], []\n",
    "base_precision, base_recall, base_f1 = [], [], []\n",
    "tsvd_precision, tsvd_recall, tsvd_f1 = [], [], []\n",
    "\n",
    "for user_id in user_list:\n",
    "    cf_val, tsvd_val, base_val, true_val = [], [], [], []\n",
    "    \n",
    "    for item_id in user_dict[user_id]:\n",
    "\n",
    "        ############################\n",
    "        ####### Truncated SVD ######\n",
    "        ############################\n",
    "        tsvd_val.append(score_mat_fitted[user_id, item_id])\n",
    "\n",
    "        #############################\n",
    "        ####### Baseline model ######\n",
    "        #############################\n",
    "        base_pool = util_mat[user_id].nonzero()[1]\n",
    "        base_result = util_mat[user_id, base_pool].mean()\n",
    "        base_val.append(base_result)\n",
    "\n",
    "        ######################################\n",
    "        ####### Collaborative Filtering ######\n",
    "        ######################################\n",
    "        nb_users = knn(user_id, 100, user_sim_mat)\n",
    "        # Only consider neighbor users w/ closer interaction into calculation\n",
    "        candidate = np.array(util_mat[nb_users, item_id].todense()).squeeze()\n",
    "        user_pool_cf = nb_users[candidate>1]\n",
    "        result_cf = 0\n",
    "        if len(user_pool_cf) != 0: # ensure at lease one neighbor rated the item\n",
    "            deno_cf = 0 # denomintor of the score\n",
    "            # calculating score\n",
    "            for user in user_pool_cf:\n",
    "                b_cf = user_sim_mat[user_id, user]\n",
    "                a_cf = util_mat[user, item_id]\n",
    "                deno_cf += b_cf\n",
    "                result_cf += a_cf * b_cf\n",
    "            result_cf /= deno_cf\n",
    "            cf_val.append(result_cf)\n",
    "        else:\n",
    "            cf_val.append(base_result)\n",
    "\n",
    "        #########################\n",
    "        ####### True score ######\n",
    "        #########################\n",
    "        true_val.append(util_mat_val[user_id,item_id])\n",
    "\n",
    "    # Precision and score\n",
    "    if error(cf_val, true_val)[2] != -1:\n",
    "        cf_precision.append(error(cf_val, true_val)[2])\n",
    "        cf_recall.append(error(cf_val, true_val)[3])\n",
    "        cf_f1.append(error(cf_val, true_val)[4])\n",
    "    if error(base_val, true_val)[2] != -1:\n",
    "        base_precision.append(error(base_val, true_val)[2])\n",
    "        base_recall.append(error(base_val, true_val)[3])\n",
    "        base_f1.append(error(base_val, true_val)[4])\n",
    "    if error(tsvd_val, true_val)[2] != -1:\n",
    "        tsvd_precision.append(error(tsvd_val, true_val)[2])\n",
    "        tsvd_recall.append(error(tsvd_val, true_val)[3])\n",
    "        tsvd_f1.append(error(tsvd_val, true_val)[4])"
   ]
  },
  {
   "cell_type": "code",
   "execution_count": 414,
   "metadata": {},
   "outputs": [
    {
     "name": "stdout",
     "output_type": "stream",
     "text": [
      "Mean F1 score report:\n",
      "----------------------------------------\n",
      "Base model: 0.94383\n",
      "----------------------------------------\n",
      "User collaborative model: 0.70756\n",
      "----------------------------------------\n",
      "Truncated SVD: 0.46687\n"
     ]
    }
   ],
   "source": [
    "print('Mean F1 score report:')\n",
    "print('-'*40)\n",
    "print('Base model: %.5f' % np.nanmean(base_f1))\n",
    "print('-'*40)\n",
    "print('User collaborative model: %.5f' % np.nanmean(cf_f1))\n",
    "print('-'*40)\n",
    "print('Truncated SVD: %.5f' % np.nanmean(tsvd_f1))"
   ]
  }
 ],
 "metadata": {
  "kernelspec": {
   "display_name": "Python 3",
   "language": "python",
   "name": "python3"
  },
  "language_info": {
   "codemirror_mode": {
    "name": "ipython",
    "version": 3
   },
   "file_extension": ".py",
   "mimetype": "text/x-python",
   "name": "python",
   "nbconvert_exporter": "python",
   "pygments_lexer": "ipython3",
   "version": "3.7.3"
  }
 },
 "nbformat": 4,
 "nbformat_minor": 2
}
